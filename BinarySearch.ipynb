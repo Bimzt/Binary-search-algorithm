{
 "cells": [
  {
   "cell_type": "code",
   "execution_count": 14,
   "id": "86d9572a",
   "metadata": {},
   "outputs": [],
   "source": [
    "def binarySearch(sortedList, target):\n",
    "    left = 0\n",
    "    right = len(sortedList) - 1\n",
    "    while left <= right:\n",
    "        midpoint = (left + right) // 2\n",
    "        if target == sortedList[midpoint]:\n",
    "            return midpoint\n",
    "        elif target < sortedList[midpoint]:\n",
    "            right = midpoint - 1\n",
    "        else:\n",
    "            left = midpoint + 1\n",
    "    return -1\n",
    "\n",
    "def cariKata(namaFile, kataYangDicari):\n",
    "    try:\n",
    "        with open(namaFile, 'r') as file:\n",
    "            teks = file.read()\n",
    "        daftar_kata = teks.lower().split()\n",
    "        daftar_kata_terurut = sorted(daftar_kata)\n",
    "        hasil = binarySearch(daftar_kata_terurut, kataYangDicari)\n",
    "        return hasil\n",
    "    except FileNotFoundError:\n",
    "        print(f\"File {namaFile} tidak ditemukan.\")\n",
    "        return -2\n",
    "    except Exception as e:\n",
    "        print(f\"Terjadi kesalahan: {e}\")\n",
    "        return -3\n"
   ]
  },
  {
   "cell_type": "code",
   "execution_count": 15,
   "id": "53fb7022",
   "metadata": {},
   "outputs": [
    {
     "name": "stdout",
     "output_type": "stream",
     "text": [
      "Kata 'paus' ditemukan pada indeks ke-302 dalam daftar kata terurut\n"
     ]
    }
   ],
   "source": [
    "nama_file = \"Berita.txt\"\n",
    "kata_dicari = input(\"Masukkan kata yang ingin dicari: \")\n",
    "hasil = cariKata(nama_file, kata_dicari)\n",
    "if hasil == -1:\n",
    "    print(f\"Kata '{kata_dicari}' tidak ditemukan dalam teks di file berita\")\n",
    "elif hasil >= 0:\n",
    "    print(f\"Kata '{kata_dicari}' ditemukan pada indeks ke-{hasil} dalam daftar kata terurut\")"
   ]
  }
 ],
 "metadata": {
  "kernelspec": {
   "display_name": "Python 3",
   "language": "python",
   "name": "python3"
  },
  "language_info": {
   "codemirror_mode": {
    "name": "ipython",
    "version": 3
   },
   "file_extension": ".py",
   "mimetype": "text/x-python",
   "name": "python",
   "nbconvert_exporter": "python",
   "pygments_lexer": "ipython3",
   "version": "3.12.4"
  }
 },
 "nbformat": 4,
 "nbformat_minor": 5
}
